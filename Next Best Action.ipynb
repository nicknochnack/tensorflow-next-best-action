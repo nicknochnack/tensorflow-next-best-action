{
 "cells": [
  {
   "cell_type": "markdown",
   "metadata": {},
   "source": [
    "# Bring in Data"
   ]
  },
  {
   "cell_type": "code",
   "execution_count": 4,
   "metadata": {},
   "outputs": [],
   "source": [
    "import numpy as np"
   ]
  },
  {
   "cell_type": "code",
   "execution_count": 5,
   "metadata": {},
   "outputs": [
    {
     "data": {
      "text/html": [
       "<div>\n",
       "<style scoped>\n",
       "    .dataframe tbody tr th:only-of-type {\n",
       "        vertical-align: middle;\n",
       "    }\n",
       "\n",
       "    .dataframe tbody tr th {\n",
       "        vertical-align: top;\n",
       "    }\n",
       "\n",
       "    .dataframe thead th {\n",
       "        text-align: right;\n",
       "    }\n",
       "</style>\n",
       "<table border=\"1\" class=\"dataframe\">\n",
       "  <thead>\n",
       "    <tr style=\"text-align: right;\">\n",
       "      <th></th>\n",
       "      <th>Opportunity</th>\n",
       "      <th>Time</th>\n",
       "      <th>Stage</th>\n",
       "      <th>Action</th>\n",
       "    </tr>\n",
       "  </thead>\n",
       "  <tbody>\n",
       "    <tr>\n",
       "      <th>0</th>\n",
       "      <td>OP001</td>\n",
       "      <td>43456.60550</td>\n",
       "      <td>1</td>\n",
       "      <td>Emailed Client</td>\n",
       "    </tr>\n",
       "    <tr>\n",
       "      <th>1</th>\n",
       "      <td>OP001</td>\n",
       "      <td>43466.19231</td>\n",
       "      <td>1</td>\n",
       "      <td>Emailed Client</td>\n",
       "    </tr>\n",
       "    <tr>\n",
       "      <th>2</th>\n",
       "      <td>OP001</td>\n",
       "      <td>43471.51592</td>\n",
       "      <td>2</td>\n",
       "      <td>Meeting with Client</td>\n",
       "    </tr>\n",
       "    <tr>\n",
       "      <th>3</th>\n",
       "      <td>OP001</td>\n",
       "      <td>43479.39509</td>\n",
       "      <td>3</td>\n",
       "      <td>Presented to Client</td>\n",
       "    </tr>\n",
       "    <tr>\n",
       "      <th>4</th>\n",
       "      <td>OP001</td>\n",
       "      <td>43483.32009</td>\n",
       "      <td>3</td>\n",
       "      <td>Presented to Client</td>\n",
       "    </tr>\n",
       "  </tbody>\n",
       "</table>\n",
       "</div>"
      ],
      "text/plain": [
       "  Opportunity         Time  Stage               Action\n",
       "0       OP001  43456.60550      1       Emailed Client\n",
       "1       OP001  43466.19231      1       Emailed Client\n",
       "2       OP001  43471.51592      2  Meeting with Client\n",
       "3       OP001  43479.39509      3  Presented to Client\n",
       "4       OP001  43483.32009      3  Presented to Client"
      ]
     },
     "execution_count": 5,
     "metadata": {},
     "output_type": "execute_result"
    }
   ],
   "source": [
    "import types\n",
    "import pandas as pd\n",
    "from botocore.client import Config\n",
    "import ibm_boto3\n",
    "\n",
    "def __iter__(self): return 0\n",
    "\n",
    "# @hidden_cell\n",
    "# The following code accesses a file in your IBM Cloud Object Storage. It includes your credentials.\n",
    "# You might want to remove those credentials before you share the notebook.\n",
    "client_e6ecf2033ae54d92b08944d13be35195 = ibm_boto3.client(service_name='s3',\n",
    "    ibm_api_key_id='yourapikey',\n",
    "    ibm_auth_endpoint=\"https://iam.ng.bluemix.net/oidc/token\",\n",
    "    config=Config(signature_version='oauth'),\n",
    "    endpoint_url='yourendpoint')\n",
    "\n",
    "body = client_e6ecf2033ae54d92b08944d13be35195.get_object(Bucket='yourbucket',Key='Event.csv')['Body']\n",
    "# add missing __iter__ method, so pandas accepts body as file-like object\n",
    "if not hasattr(body, \"__iter__\"): body.__iter__ = types.MethodType( __iter__, body )\n",
    "\n",
    "df = pd.read_csv(body)\n",
    "df.head()"
   ]
  },
  {
   "cell_type": "code",
   "execution_count": 6,
   "metadata": {},
   "outputs": [],
   "source": [
    "df['Event Key'] = df['Stage'].astype(str) +'-'+ df['Action']"
   ]
  },
  {
   "cell_type": "code",
   "execution_count": 7,
   "metadata": {},
   "outputs": [],
   "source": [
    "events = list(df['Event Key'].unique())\n",
    "ev = events.pop(8)\n",
    "events.append(ev)\n",
    "events = ['0-Dummy'] + events"
   ]
  },
  {
   "cell_type": "code",
   "execution_count": 8,
   "metadata": {},
   "outputs": [
    {
     "data": {
      "text/plain": [
       "['0-Dummy',\n",
       " '1-Emailed Client',\n",
       " '2-Meeting with Client',\n",
       " '3-Presented to Client',\n",
       " '4-Prepared Custom Demonstration',\n",
       " '5-Prepared POC',\n",
       " '6-Provided Pre-Sales Support',\n",
       " '8-Prepared Commercials',\n",
       " '9-Negotiation Meeting',\n",
       " '7-Prepared RFP Responses',\n",
       " '10-Commercials Signed',\n",
       " '11-Post Sales Support']"
      ]
     },
     "execution_count": 8,
     "metadata": {},
     "output_type": "execute_result"
    }
   ],
   "source": [
    "events"
   ]
  },
  {
   "cell_type": "code",
   "execution_count": 9,
   "metadata": {},
   "outputs": [
    {
     "data": {
      "text/html": [
       "<div>\n",
       "<style scoped>\n",
       "    .dataframe tbody tr th:only-of-type {\n",
       "        vertical-align: middle;\n",
       "    }\n",
       "\n",
       "    .dataframe tbody tr th {\n",
       "        vertical-align: top;\n",
       "    }\n",
       "\n",
       "    .dataframe thead th {\n",
       "        text-align: right;\n",
       "    }\n",
       "</style>\n",
       "<table border=\"1\" class=\"dataframe\">\n",
       "  <thead>\n",
       "    <tr style=\"text-align: right;\">\n",
       "      <th></th>\n",
       "      <th>Opportunity</th>\n",
       "      <th>Time</th>\n",
       "      <th>Stage</th>\n",
       "      <th>Action</th>\n",
       "      <th>Event Key</th>\n",
       "    </tr>\n",
       "  </thead>\n",
       "  <tbody>\n",
       "    <tr>\n",
       "      <th>0</th>\n",
       "      <td>OP001</td>\n",
       "      <td>43456.60550</td>\n",
       "      <td>1</td>\n",
       "      <td>Emailed Client</td>\n",
       "      <td>1-Emailed Client</td>\n",
       "    </tr>\n",
       "    <tr>\n",
       "      <th>1</th>\n",
       "      <td>OP001</td>\n",
       "      <td>43466.19231</td>\n",
       "      <td>1</td>\n",
       "      <td>Emailed Client</td>\n",
       "      <td>1-Emailed Client</td>\n",
       "    </tr>\n",
       "    <tr>\n",
       "      <th>2</th>\n",
       "      <td>OP001</td>\n",
       "      <td>43471.51592</td>\n",
       "      <td>2</td>\n",
       "      <td>Meeting with Client</td>\n",
       "      <td>2-Meeting with Client</td>\n",
       "    </tr>\n",
       "    <tr>\n",
       "      <th>3</th>\n",
       "      <td>OP001</td>\n",
       "      <td>43479.39509</td>\n",
       "      <td>3</td>\n",
       "      <td>Presented to Client</td>\n",
       "      <td>3-Presented to Client</td>\n",
       "    </tr>\n",
       "    <tr>\n",
       "      <th>4</th>\n",
       "      <td>OP001</td>\n",
       "      <td>43483.32009</td>\n",
       "      <td>3</td>\n",
       "      <td>Presented to Client</td>\n",
       "      <td>3-Presented to Client</td>\n",
       "    </tr>\n",
       "  </tbody>\n",
       "</table>\n",
       "</div>"
      ],
      "text/plain": [
       "  Opportunity         Time  Stage               Action              Event Key\n",
       "0       OP001  43456.60550      1       Emailed Client       1-Emailed Client\n",
       "1       OP001  43466.19231      1       Emailed Client       1-Emailed Client\n",
       "2       OP001  43471.51592      2  Meeting with Client  2-Meeting with Client\n",
       "3       OP001  43479.39509      3  Presented to Client  3-Presented to Client\n",
       "4       OP001  43483.32009      3  Presented to Client  3-Presented to Client"
      ]
     },
     "execution_count": 9,
     "metadata": {},
     "output_type": "execute_result"
    }
   ],
   "source": [
    "df.head()"
   ]
  },
  {
   "cell_type": "markdown",
   "metadata": {},
   "source": [
    "# Prepare Data"
   ]
  },
  {
   "cell_type": "code",
   "execution_count": 10,
   "metadata": {},
   "outputs": [],
   "source": [
    "series_length = 5\n",
    "categories = len(events)\n",
    "time_steps = series_length -1 "
   ]
  },
  {
   "cell_type": "code",
   "execution_count": 11,
   "metadata": {},
   "outputs": [],
   "source": [
    "df.set_index('Opportunity', inplace=True)"
   ]
  },
  {
   "cell_type": "code",
   "execution_count": 12,
   "metadata": {},
   "outputs": [],
   "source": [
    "history = []\n",
    "for op in df.index:\n",
    "    for x in range(len(df['Stage'].loc[op].values)-series_length):\n",
    "        history.append(df['Stage'].loc[op].values[x:x+series_length])"
   ]
  },
  {
   "cell_type": "code",
   "execution_count": 13,
   "metadata": {},
   "outputs": [
    {
     "data": {
      "text/plain": [
       "(16176, 5)"
      ]
     },
     "execution_count": 13,
     "metadata": {},
     "output_type": "execute_result"
    }
   ],
   "source": [
    "np.array(history).shape"
   ]
  },
  {
   "cell_type": "code",
   "execution_count": 14,
   "metadata": {},
   "outputs": [
    {
     "data": {
      "text/plain": [
       "[array([1, 1, 2, 3, 3]),\n",
       " array([1, 2, 3, 3, 3]),\n",
       " array([2, 3, 3, 3, 4]),\n",
       " array([3, 3, 3, 4, 5]),\n",
       " array([3, 3, 4, 5, 5])]"
      ]
     },
     "execution_count": 14,
     "metadata": {},
     "output_type": "execute_result"
    }
   ],
   "source": [
    "history[:5]"
   ]
  },
  {
   "cell_type": "code",
   "execution_count": 22,
   "metadata": {},
   "outputs": [],
   "source": [
    "from tensorflow.keras.utils import to_categorical"
   ]
  },
  {
   "cell_type": "code",
   "execution_count": 23,
   "metadata": {},
   "outputs": [],
   "source": [
    "X= np.array([row[:time_steps] for row in history])"
   ]
  },
  {
   "cell_type": "code",
   "execution_count": 24,
   "metadata": {},
   "outputs": [],
   "source": [
    "X = to_categorical(X)"
   ]
  },
  {
   "cell_type": "code",
   "execution_count": 25,
   "metadata": {},
   "outputs": [],
   "source": [
    "y=np.array([row[time_steps] for row in history])"
   ]
  },
  {
   "cell_type": "code",
   "execution_count": 26,
   "metadata": {},
   "outputs": [],
   "source": [
    "y = to_categorical(y).reshape(-1,categories)"
   ]
  },
  {
   "cell_type": "code",
   "execution_count": 27,
   "metadata": {},
   "outputs": [
    {
     "data": {
      "text/plain": [
       "(16176, 4, 12)"
      ]
     },
     "execution_count": 27,
     "metadata": {},
     "output_type": "execute_result"
    }
   ],
   "source": [
    "X.shape"
   ]
  },
  {
   "cell_type": "code",
   "execution_count": 28,
   "metadata": {},
   "outputs": [
    {
     "data": {
      "text/plain": [
       "(16176, 12)"
      ]
     },
     "execution_count": 28,
     "metadata": {},
     "output_type": "execute_result"
    }
   ],
   "source": [
    "y.shape"
   ]
  },
  {
   "cell_type": "markdown",
   "metadata": {},
   "source": [
    "# Create Train and Test Set"
   ]
  },
  {
   "cell_type": "code",
   "execution_count": 29,
   "metadata": {},
   "outputs": [],
   "source": [
    "from sklearn.model_selection import train_test_split"
   ]
  },
  {
   "cell_type": "code",
   "execution_count": 30,
   "metadata": {},
   "outputs": [],
   "source": [
    "X_train, X_test, y_train, y_test = train_test_split(X,y,test_size=0.3)"
   ]
  },
  {
   "cell_type": "code",
   "execution_count": 31,
   "metadata": {},
   "outputs": [
    {
     "name": "stdout",
     "output_type": "stream",
     "text": [
      "(11323, 4, 12) (4853, 4, 12) (11323, 12) (4853, 12)\n"
     ]
    }
   ],
   "source": [
    "print(X_train.shape, X_test.shape, y_train.shape, y_test.shape)"
   ]
  },
  {
   "cell_type": "markdown",
   "metadata": {},
   "source": [
    "# Modelling"
   ]
  },
  {
   "cell_type": "code",
   "execution_count": 32,
   "metadata": {},
   "outputs": [],
   "source": [
    "from tensorflow.keras.models import Sequential\n",
    "from tensorflow.keras.layers import LSTM, Dense"
   ]
  },
  {
   "cell_type": "code",
   "execution_count": 33,
   "metadata": {},
   "outputs": [],
   "source": [
    "#del model"
   ]
  },
  {
   "cell_type": "code",
   "execution_count": 34,
   "metadata": {},
   "outputs": [],
   "source": [
    "model = Sequential()"
   ]
  },
  {
   "cell_type": "code",
   "execution_count": 35,
   "metadata": {},
   "outputs": [],
   "source": [
    "model.add(LSTM(10, activation='relu', return_sequences=True, input_shape=(time_steps,categories)))\n",
    "model.add(LSTM(10, activation='relu'))\n",
    "model.add(Dense(categories, activation='softmax'))\n",
    "model.compile('adam', loss='categorical_crossentropy')"
   ]
  },
  {
   "cell_type": "code",
   "execution_count": 36,
   "metadata": {},
   "outputs": [
    {
     "name": "stdout",
     "output_type": "stream",
     "text": [
      "_________________________________________________________________\n",
      "Layer (type)                 Output Shape              Param #   \n",
      "=================================================================\n",
      "lstm_2 (LSTM)                (None, 4, 10)             920       \n",
      "_________________________________________________________________\n",
      "lstm_3 (LSTM)                (None, 10)                840       \n",
      "_________________________________________________________________\n",
      "dense_1 (Dense)              (None, 12)                132       \n",
      "=================================================================\n",
      "Total params: 1,892\n",
      "Trainable params: 1,892\n",
      "Non-trainable params: 0\n",
      "_________________________________________________________________\n"
     ]
    }
   ],
   "source": [
    "model.summary()"
   ]
  },
  {
   "cell_type": "code",
   "execution_count": 37,
   "metadata": {},
   "outputs": [
    {
     "name": "stdout",
     "output_type": "stream",
     "text": [
      "WARNING:tensorflow:From /opt/conda/envs/Python36/lib/python3.6/site-packages/tensorflow/python/ops/math_ops.py:3066: to_int32 (from tensorflow.python.ops.math_ops) is deprecated and will be removed in a future version.\n",
      "Instructions for updating:\n",
      "Use tf.cast instead.\n",
      "Epoch 1/10\n",
      "11323/11323 [==============================] - 29s 3ms/sample - loss: 1.8696\n",
      "Epoch 2/10\n",
      "11323/11323 [==============================] - 24s 2ms/sample - loss: 1.1009\n",
      "Epoch 3/10\n",
      "11323/11323 [==============================] - 23s 2ms/sample - loss: 1.0104\n",
      "Epoch 4/10\n",
      "11323/11323 [==============================] - 23s 2ms/sample - loss: 0.9766\n",
      "Epoch 5/10\n",
      "11323/11323 [==============================] - 25s 2ms/sample - loss: 0.9603\n",
      "Epoch 6/10\n",
      "11323/11323 [==============================] - 23s 2ms/sample - loss: 0.9551\n",
      "Epoch 7/10\n",
      "11323/11323 [==============================] - 24s 2ms/sample - loss: 0.9476\n",
      "Epoch 8/10\n",
      "11323/11323 [==============================] - 23s 2ms/sample - loss: 0.9422\n",
      "Epoch 9/10\n",
      "11323/11323 [==============================] - 24s 2ms/sample - loss: 0.9373\n",
      "Epoch 10/10\n",
      "11323/11323 [==============================] - 24s 2ms/sample - loss: 0.9360\n"
     ]
    },
    {
     "data": {
      "text/plain": [
       "<tensorflow.python.keras.callbacks.History at 0x7fed0bf61940>"
      ]
     },
     "execution_count": 37,
     "metadata": {},
     "output_type": "execute_result"
    }
   ],
   "source": [
    "model.fit(X_train,y_train, epochs=10)"
   ]
  },
  {
   "cell_type": "markdown",
   "metadata": {},
   "source": [
    "# Generate Predictions"
   ]
  },
  {
   "cell_type": "code",
   "execution_count": 29,
   "metadata": {},
   "outputs": [],
   "source": [
    "prediction = model.predict(X_test)"
   ]
  },
  {
   "cell_type": "code",
   "execution_count": 50,
   "metadata": {},
   "outputs": [
    {
     "data": {
      "text/plain": [
       "'10-Commercials Signed'"
      ]
     },
     "execution_count": 50,
     "metadata": {},
     "output_type": "execute_result"
    }
   ],
   "source": [
    "# Next event is\n",
    "events[np.argmax(prediction[1])]"
   ]
  },
  {
   "cell_type": "code",
   "execution_count": 48,
   "metadata": {},
   "outputs": [
    {
     "data": {
      "text/plain": [
       "10"
      ]
     },
     "execution_count": 48,
     "metadata": {},
     "output_type": "execute_result"
    }
   ],
   "source": [
    "np.argmax(y_test[1])"
   ]
  },
  {
   "cell_type": "code",
   "execution_count": 49,
   "metadata": {},
   "outputs": [
    {
     "data": {
      "text/plain": [
       "10"
      ]
     },
     "execution_count": 49,
     "metadata": {},
     "output_type": "execute_result"
    }
   ],
   "source": [
    "np.argmax(prediction[1])"
   ]
  },
  {
   "cell_type": "markdown",
   "metadata": {},
   "source": [
    "# Evaluate Accuracy"
   ]
  },
  {
   "cell_type": "code",
   "execution_count": 37,
   "metadata": {},
   "outputs": [],
   "source": [
    "import tensorflow as tf\n",
    "from tensorflow.keras.metrics import top_k_categorical_accuracy"
   ]
  },
  {
   "cell_type": "code",
   "execution_count": 53,
   "metadata": {},
   "outputs": [
    {
     "name": "stdout",
     "output_type": "stream",
     "text": [
      "Correct event was top prediction: 0.5641871\n",
      "Correct event was in top two prediction: 0.90253454\n",
      "Correct event was in top three prediction: 0.98578197\n"
     ]
    }
   ],
   "source": [
    "with tf.Session() as sess:  \n",
    "    print('Correct event was top prediction:', top_k_categorical_accuracy(y_test,prediction, k=1).eval())\n",
    "    print('Correct event was in top two prediction:', top_k_categorical_accuracy(y_test,prediction, k=2).eval())\n",
    "    print('Correct event was in top three prediction:', top_k_categorical_accuracy(y_test,prediction, k=3).eval())"
   ]
  }
 ],
 "metadata": {
  "kernelspec": {
   "display_name": "Python 3.6",
   "language": "python",
   "name": "python3"
  },
  "language_info": {
   "codemirror_mode": {
    "name": "ipython",
    "version": 3
   },
   "file_extension": ".py",
   "mimetype": "text/x-python",
   "name": "python",
   "nbconvert_exporter": "python",
   "pygments_lexer": "ipython3",
   "version": "3.6.8"
  }
 },
 "nbformat": 4,
 "nbformat_minor": 1
}
